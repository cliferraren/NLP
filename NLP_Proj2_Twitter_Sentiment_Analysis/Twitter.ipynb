{
 "cells": [
  {
   "cell_type": "markdown",
   "metadata": {},
   "source": [
    "Creating a Twitter API Connection"
   ]
  },
  {
   "cell_type": "code",
   "execution_count": 27,
   "metadata": {},
   "outputs": [],
   "source": [
    "import json\n",
    "import twitter\n",
    "from twitter_config import *"
   ]
  },
  {
   "cell_type": "code",
   "execution_count": 28,
   "metadata": {},
   "outputs": [],
   "source": [
    "# Setup Twitter API Authentication\n",
    "auth = twitter.oauth.OAuth(access_token, access_token_secret,\n",
    "                           consumer_key, consumer_secret)\n",
    "\n",
    "twitter_api = twitter.Twitter(auth=auth)\n",
    "                              \n",
    "# Nothing to see by displaying twitter_api except that it's now a\n",
    "# defined variable                              "
   ]
  },
  {
   "cell_type": "code",
   "execution_count": 29,
   "metadata": {},
   "outputs": [
    {
     "name": "stdout",
     "output_type": "stream",
     "text": [
      "<twitter.api.Twitter object at 0x113081e10>\n"
     ]
    }
   ],
   "source": [
    "#Successfully used OAuth credentials to gain authorization to query Twitter’s API\n",
    "print(twitter_api)"
   ]
  },
  {
   "cell_type": "markdown",
   "metadata": {},
   "source": [
    "Exploring Trending Topics"
   ]
  },
  {
   "cell_type": "code",
   "execution_count": 30,
   "metadata": {},
   "outputs": [],
   "source": [
    "# The Yahoo! Where On Earth ID for the entire world is 1.\n",
    "# See https://dev.twitter.com/docs/api/1.1/get/trends/place and\n",
    "# http://developer.yahoo.com/geo/geoplanet/\n",
    "\n",
    "WORLD_WOE_ID = 1\n",
    "US_WOE_ID = 23424977\n",
    "\n",
    "# Prefix ID with the underscore for query string parameterization.\n",
    "# Without the underscore, the twitter package appends the ID value\n",
    "# to the URL itself as a special case keyword argument."
   ]
  },
  {
   "cell_type": "code",
   "execution_count": 31,
   "metadata": {},
   "outputs": [],
   "source": [
    "#https://api.twitter.com/1.1/trends/place.json?id=1"
   ]
  },
  {
   "cell_type": "code",
   "execution_count": 32,
   "metadata": {},
   "outputs": [
    {
     "name": "stdout",
     "output_type": "stream",
     "text": [
      "[{'trends': [{'name': '#BlackBuckPoachingCase', 'url': 'http://twitter.com/search?q=%23BlackBuckPoachingCase', 'promoted_content': None, 'query': '%23BlackBuckPoachingCase', 'tweet_volume': 46877}, {'name': '#AvukatlarGünü', 'url': 'http://twitter.com/search?q=%23AvukatlarG%C3%BCn%C3%BC', 'promoted_content': None, 'query': '%23AvukatlarG%C3%BCn%C3%BC', 'tweet_volume': None}, {'name': '#FelizJueves', 'url': 'http://twitter.com/search?q=%23FelizJueves', 'promoted_content': None, 'query': '%23FelizJueves', 'tweet_volume': 12624}, {'name': '#MirabaiChanu', 'url': 'http://twitter.com/search?q=%23MirabaiChanu', 'promoted_content': None, 'query': '%23MirabaiChanu', 'tweet_volume': 16068}, {'name': '#مشتهي_فطور', 'url': 'http://twitter.com/search?q=%23%D9%85%D8%B4%D8%AA%D9%87%D9%8A_%D9%81%D8%B7%D9%88%D8%B1', 'promoted_content': None, 'query': '%23%D9%85%D8%B4%D8%AA%D9%87%D9%8A_%D9%81%D8%B7%D9%88%D8%B1', 'tweet_volume': 21049}, {'name': 'Jean-Vincent Placé', 'url': 'http://twitter.com/search?q=%22Jean-Vincent+Plac%C3%A9%22', 'promoted_content': None, 'query': '%22Jean-Vincent+Plac%C3%A9%22', 'tweet_volume': None}, {'name': \"Beşiktaş Belediyesi'ne\", 'url': 'http://twitter.com/search?q=%22Be%C5%9Fikta%C5%9F+Belediyesi%27ne%22', 'promoted_content': None, 'query': '%22Be%C5%9Fikta%C5%9F+Belediyesi%27ne%22', 'tweet_volume': None}, {'name': 'Javier Maroto', 'url': 'http://twitter.com/search?q=%22Javier+Maroto%22', 'promoted_content': None, 'query': '%22Javier+Maroto%22', 'tweet_volume': None}, {'name': 'Cécile Duflot', 'url': 'http://twitter.com/search?q=%22C%C3%A9cile+Duflot%22', 'promoted_content': None, 'query': '%22C%C3%A9cile+Duflot%22', 'tweet_volume': None}, {'name': 'Kurt Cobain', 'url': 'http://twitter.com/search?q=%22Kurt+Cobain%22', 'promoted_content': None, 'query': '%22Kurt+Cobain%22', 'tweet_volume': None}, {'name': '大量の塩', 'url': 'http://twitter.com/search?q=%E5%A4%A7%E9%87%8F%E3%81%AE%E5%A1%A9', 'promoted_content': None, 'query': '%E5%A4%A7%E9%87%8F%E3%81%AE%E5%A1%A9', 'tweet_volume': 46572}, {'name': 'TFM de Cifuentes', 'url': 'http://twitter.com/search?q=%22TFM+de+Cifuentes%22', 'promoted_content': None, 'query': '%22TFM+de+Cifuentes%22', 'tweet_volume': None}, {'name': 'Lula da Silva', 'url': 'http://twitter.com/search?q=%22Lula+da+Silva%22', 'promoted_content': None, 'query': '%22Lula+da+Silva%22', 'tweet_volume': 46767}, {'name': 'PNP Chief', 'url': 'http://twitter.com/search?q=%22PNP+Chief%22', 'promoted_content': None, 'query': '%22PNP+Chief%22', 'tweet_volume': None}, {'name': 'Sure Start', 'url': 'http://twitter.com/search?q=%22Sure+Start%22', 'promoted_content': None, 'query': '%22Sure+Start%22', 'tweet_volume': None}, {'name': \"80 FETÖ'cüyü\", 'url': 'http://twitter.com/search?q=%2280+FET%C3%96%27c%C3%BCy%C3%BC%22', 'promoted_content': None, 'query': '%2280+FET%C3%96%27c%C3%BCy%C3%BC%22', 'tweet_volume': None}, {'name': 'Medeni Sayılgan', 'url': 'http://twitter.com/search?q=%22Medeni+Say%C4%B1lgan%22', 'promoted_content': None, 'query': '%22Medeni+Say%C4%B1lgan%22', 'tweet_volume': None}, {'name': '#الخميس_الونيس', 'url': 'http://twitter.com/search?q=%23%D8%A7%D9%84%D8%AE%D9%85%D9%8A%D8%B3_%D8%A7%D9%84%D9%88%D9%86%D9%8A%D8%B3', 'promoted_content': None, 'query': '%23%D8%A7%D9%84%D8%AE%D9%85%D9%8A%D8%B3_%D8%A7%D9%84%D9%88%D9%86%D9%8A%D8%B3', 'tweet_volume': 23957}, {'name': '#ThursdayThoughts', 'url': 'http://twitter.com/search?q=%23ThursdayThoughts', 'promoted_content': None, 'query': '%23ThursdayThoughts', 'tweet_volume': 19660}, {'name': '#مذبحه_الاطفال_في_افغانستان', 'url': 'http://twitter.com/search?q=%23%D9%85%D8%B0%D8%A8%D8%AD%D9%87_%D8%A7%D9%84%D8%A7%D8%B7%D9%81%D8%A7%D9%84_%D9%81%D9%8A_%D8%A7%D9%81%D8%BA%D8%A7%D9%86%D8%B3%D8%AA%D8%A7%D9%86', 'promoted_content': None, 'query': '%23%D9%85%D8%B0%D8%A8%D8%AD%D9%87_%D8%A7%D9%84%D8%A7%D8%B7%D9%81%D8%A7%D9%84_%D9%81%D9%8A_%D8%A7%D9%81%D8%BA%D8%A7%D9%86%D8%B3%D8%AA%D8%A7%D9%86', 'tweet_volume': 43425}, {'name': '#LaCafeteraMasterCCC', 'url': 'http://twitter.com/search?q=%23LaCafeteraMasterCCC', 'promoted_content': None, 'query': '%23LaCafeteraMasterCCC', 'tweet_volume': None}, {'name': '#تبوك_الان', 'url': 'http://twitter.com/search?q=%23%D8%AA%D8%A8%D9%88%D9%83_%D8%A7%D9%84%D8%A7%D9%86', 'promoted_content': None, 'query': '%23%D8%AA%D8%A8%D9%88%D9%83_%D8%A7%D9%84%D8%A7%D9%86', 'tweet_volume': None}, {'name': '#HealTheWorldIn5Words', 'url': 'http://twitter.com/search?q=%23HealTheWorldIn5Words', 'promoted_content': None, 'query': '%23HealTheWorldIn5Words', 'tweet_volume': 11817}, {'name': '#5aprile', 'url': 'http://twitter.com/search?q=%235aprile', 'promoted_content': None, 'query': '%235aprile', 'tweet_volume': None}, {'name': '#libspill', 'url': 'http://twitter.com/search?q=%23libspill', 'promoted_content': None, 'query': '%23libspill', 'tweet_volume': None}, {'name': '#TNBandh', 'url': 'http://twitter.com/search?q=%23TNBandh', 'promoted_content': None, 'query': '%23TNBandh', 'tweet_volume': 10133}, {'name': '#iyikiDoğdunSüleymanSEBA', 'url': 'http://twitter.com/search?q=%23iyikiDo%C4%9FdunS%C3%BCleymanSEBA', 'promoted_content': None, 'query': '%23iyikiDo%C4%9FdunS%C3%BCleymanSEBA', 'tweet_volume': 11852}, {'name': '#BitiyorumŞuLafa', 'url': 'http://twitter.com/search?q=%23Bitiyorum%C5%9EuLafa', 'promoted_content': None, 'query': '%23Bitiyorum%C5%9EuLafa', 'tweet_volume': None}, {'name': '#DolarÜçeDüşmeli', 'url': 'http://twitter.com/search?q=%23Dolar%C3%9C%C3%A7eD%C3%BC%C5%9Fmeli', 'promoted_content': None, 'query': '%23Dolar%C3%9C%C3%A7eD%C3%BC%C5%9Fmeli', 'tweet_volume': None}, {'name': '#LulaPresoAmanhã', 'url': 'http://twitter.com/search?q=%23LulaPresoAmanh%C3%A3', 'promoted_content': None, 'query': '%23LulaPresoAmanh%C3%A3', 'tweet_volume': 67476}, {'name': '#자캐의_잘생김_혹은_예쁨_설정_여부', 'url': 'http://twitter.com/search?q=%23%EC%9E%90%EC%BA%90%EC%9D%98_%EC%9E%98%EC%83%9D%EA%B9%80_%ED%98%B9%EC%9D%80_%EC%98%88%EC%81%A8_%EC%84%A4%EC%A0%95_%EC%97%AC%EB%B6%80', 'promoted_content': None, 'query': '%23%EC%9E%90%EC%BA%90%EC%9D%98_%EC%9E%98%EC%83%9D%EA%B9%80_%ED%98%B9%EC%9D%80_%EC%98%88%EC%81%A8_%EC%84%A4%EC%A0%95_%EC%97%AC%EB%B6%80', 'tweet_volume': None}, {'name': '#قاتل_القريات', 'url': 'http://twitter.com/search?q=%23%D9%82%D8%A7%D8%AA%D9%84_%D8%A7%D9%84%D9%82%D8%B1%D9%8A%D8%A7%D8%AA', 'promoted_content': None, 'query': '%23%D9%82%D8%A7%D8%AA%D9%84_%D8%A7%D9%84%D9%82%D8%B1%D9%8A%D8%A7%D8%AA', 'tweet_volume': 25359}, {'name': '#wandelnaarjewerkdag', 'url': 'http://twitter.com/search?q=%23wandelnaarjewerkdag', 'promoted_content': None, 'query': '%23wandelnaarjewerkdag', 'tweet_volume': None}, {'name': '#CanonForCommunity', 'url': 'http://twitter.com/search?q=%23CanonForCommunity', 'promoted_content': None, 'query': '%23CanonForCommunity', 'tweet_volume': None}, {'name': '#خاطري_فيك_وانت_تدري', 'url': 'http://twitter.com/search?q=%23%D8%AE%D8%A7%D8%B7%D8%B1%D9%8A_%D9%81%D9%8A%D9%83_%D9%88%D8%A7%D9%86%D8%AA_%D8%AA%D8%AF%D8%B1%D9%8A', 'promoted_content': None, 'query': '%23%D8%AE%D8%A7%D8%B7%D8%B1%D9%8A_%D9%81%D9%8A%D9%83_%D9%88%D8%A7%D9%86%D8%AA_%D8%AA%D8%AF%D8%B1%D9%8A', 'tweet_volume': 45262}, {'name': '#AsintadoAngkas', 'url': 'http://twitter.com/search?q=%23AsintadoAngkas', 'promoted_content': None, 'query': '%23AsintadoAngkas', 'tweet_volume': None}, {'name': '#JeudiPhoto', 'url': 'http://twitter.com/search?q=%23JeudiPhoto', 'promoted_content': None, 'query': '%23JeudiPhoto', 'tweet_volume': None}, {'name': '#من_كثر_ما_البحرين_صغيره', 'url': 'http://twitter.com/search?q=%23%D9%85%D9%86_%D9%83%D8%AB%D8%B1_%D9%85%D8%A7_%D8%A7%D9%84%D8%A8%D8%AD%D8%B1%D9%8A%D9%86_%D8%B5%D8%BA%D9%8A%D8%B1%D9%87', 'promoted_content': None, 'query': '%23%D9%85%D9%86_%D9%83%D8%AB%D8%B1_%D9%85%D8%A7_%D8%A7%D9%84%D8%A8%D8%AD%D8%B1%D9%8A%D9%86_%D8%B5%D8%BA%D9%8A%D8%B1%D9%87', 'tweet_volume': None}, {'name': '#Jateng1GanjarYasin', 'url': 'http://twitter.com/search?q=%23Jateng1GanjarYasin', 'promoted_content': None, 'query': '%23Jateng1GanjarYasin', 'tweet_volume': None}, {'name': '#LlegueAlMundoPara', 'url': 'http://twitter.com/search?q=%23LlegueAlMundoPara', 'promoted_content': None, 'query': '%23LlegueAlMundoPara', 'tweet_volume': 14826}, {'name': '#SpamDeHistoriasDeEx', 'url': 'http://twitter.com/search?q=%23SpamDeHistoriasDeEx', 'promoted_content': None, 'query': '%23SpamDeHistoriasDeEx', 'tweet_volume': None}, {'name': '#OECDgfd', 'url': 'http://twitter.com/search?q=%23OECDgfd', 'promoted_content': None, 'query': '%23OECDgfd', 'tweet_volume': None}, {'name': '#halkb', 'url': 'http://twitter.com/search?q=%23halkb', 'promoted_content': None, 'query': '%23halkb', 'tweet_volume': None}, {'name': '#destinasidigital', 'url': 'http://twitter.com/search?q=%23destinasidigital', 'promoted_content': None, 'query': '%23destinasidigital', 'tweet_volume': None}, {'name': '#WelcomeToDubaiSuperJunior', 'url': 'http://twitter.com/search?q=%23WelcomeToDubaiSuperJunior', 'promoted_content': None, 'query': '%23WelcomeToDubaiSuperJunior', 'tweet_volume': None}, {'name': '#EmerceRecruitment18', 'url': 'http://twitter.com/search?q=%23EmerceRecruitment18', 'promoted_content': None, 'query': '%23EmerceRecruitment18', 'tweet_volume': None}, {'name': '#SatyamevaJayate', 'url': 'http://twitter.com/search?q=%23SatyamevaJayate', 'promoted_content': None, 'query': '%23SatyamevaJayate', 'tweet_volume': None}, {'name': '#ICICIBankSocialPay', 'url': 'http://twitter.com/search?q=%23ICICIBankSocialPay', 'promoted_content': None, 'query': '%23ICICIBankSocialPay', 'tweet_volume': None}, {'name': '#EcommerceTourSV', 'url': 'http://twitter.com/search?q=%23EcommerceTourSV', 'promoted_content': None, 'query': '%23EcommerceTourSV', 'tweet_volume': None}, {'name': '#ShowtimeApriL5vorite', 'url': 'http://twitter.com/search?q=%23ShowtimeApriL5vorite', 'promoted_content': None, 'query': '%23ShowtimeApriL5vorite', 'tweet_volume': None}], 'as_of': '2018-04-05T08:32:58Z', 'created_at': '2018-04-05T08:28:26Z', 'locations': [{'name': 'Worldwide', 'woeid': 1}]}]\n",
      "\n",
      "[{'trends': [{'name': '#HealTheWorldIn5Words', 'url': 'http://twitter.com/search?q=%23HealTheWorldIn5Words', 'promoted_content': None, 'query': '%23HealTheWorldIn5Words', 'tweet_volume': 11817}, {'name': '#SaheedVassell', 'url': 'http://twitter.com/search?q=%23SaheedVassell', 'promoted_content': None, 'query': '%23SaheedVassell', 'tweet_volume': None}, {'name': '#BlackBuckPoachingCase', 'url': 'http://twitter.com/search?q=%23BlackBuckPoachingCase', 'promoted_content': None, 'query': '%23BlackBuckPoachingCase', 'tweet_volume': 46877}, {'name': 'Kyle Kuzma', 'url': 'http://twitter.com/search?q=%22Kyle+Kuzma%22', 'promoted_content': None, 'query': '%22Kyle+Kuzma%22', 'tweet_volume': None}, {'name': 'Channing Frye', 'url': 'http://twitter.com/search?q=%22Channing+Frye%22', 'promoted_content': None, 'query': '%22Channing+Frye%22', 'tweet_volume': None}, {'name': '#CAREFORME', 'url': 'http://twitter.com/search?q=%23CAREFORME', 'promoted_content': None, 'query': '%23CAREFORME', 'tweet_volume': None}, {'name': '#my600lblife', 'url': 'http://twitter.com/search?q=%23my600lblife', 'promoted_content': None, 'query': '%23my600lblife', 'tweet_volume': 13126}, {'name': 'SGDQ', 'url': 'http://twitter.com/search?q=SGDQ', 'promoted_content': None, 'query': 'SGDQ', 'tweet_volume': None}, {'name': 'AP Forever', 'url': 'http://twitter.com/search?q=%22AP+Forever%22', 'promoted_content': None, 'query': '%22AP+Forever%22', 'tweet_volume': 10959}, {'name': 'Sean Manaea', 'url': 'http://twitter.com/search?q=%22Sean+Manaea%22', 'promoted_content': None, 'query': '%22Sean+Manaea%22', 'tweet_volume': None}, {'name': 'Federal Way', 'url': 'http://twitter.com/search?q=%22Federal+Way%22', 'promoted_content': None, 'query': '%22Federal+Way%22', 'tweet_volume': None}, {'name': 'Luann', 'url': 'http://twitter.com/search?q=Luann', 'promoted_content': None, 'query': 'Luann', 'tweet_volume': None}, {'name': 'Dr. Evil', 'url': 'http://twitter.com/search?q=%22Dr.+Evil%22', 'promoted_content': None, 'query': '%22Dr.+Evil%22', 'tweet_volume': None}, {'name': 'Chivas', 'url': 'http://twitter.com/search?q=Chivas', 'promoted_content': None, 'query': 'Chivas', 'tweet_volume': 36731}, {'name': 'Dejounte Murray', 'url': 'http://twitter.com/search?q=%22Dejounte+Murray%22', 'promoted_content': None, 'query': '%22Dejounte+Murray%22', 'tweet_volume': None}, {'name': 'Low Ki', 'url': 'http://twitter.com/search?q=%22Low+Ki%22', 'promoted_content': None, 'query': '%22Low+Ki%22', 'tweet_volume': None}, {'name': 'Delta Air Lines', 'url': 'http://twitter.com/search?q=%22Delta+Air+Lines%22', 'promoted_content': None, 'query': '%22Delta+Air+Lines%22', 'tweet_volume': None}, {'name': 'Johnny Valiant', 'url': 'http://twitter.com/search?q=%22Johnny+Valiant%22', 'promoted_content': None, 'query': '%22Johnny+Valiant%22', 'tweet_volume': None}, {'name': 'The Rankless Initiative', 'url': 'http://twitter.com/search?q=%22The+Rankless+Initiative%22', 'promoted_content': None, 'query': '%22The+Rankless+Initiative%22', 'tweet_volume': None}, {'name': 'Danny Green', 'url': 'http://twitter.com/search?q=%22Danny+Green%22', 'promoted_content': None, 'query': '%22Danny+Green%22', 'tweet_volume': None}, {'name': 'Dorinda', 'url': 'http://twitter.com/search?q=Dorinda', 'promoted_content': None, 'query': 'Dorinda', 'tweet_volume': None}, {'name': 'Ondrej Kase', 'url': 'http://twitter.com/search?q=%22Ondrej+Kase%22', 'promoted_content': None, 'query': '%22Ondrej+Kase%22', 'tweet_volume': None}, {'name': 'Sombra', 'url': 'http://twitter.com/search?q=Sombra', 'promoted_content': None, 'query': 'Sombra', 'tweet_volume': 14112}, {'name': 'LaMarcus Aldridge', 'url': 'http://twitter.com/search?q=%22LaMarcus+Aldridge%22', 'promoted_content': None, 'query': '%22LaMarcus+Aldridge%22', 'tweet_volume': None}, {'name': 'ANNOUNCEMENT', 'url': 'http://twitter.com/search?q=ANNOUNCEMENT', 'promoted_content': None, 'query': 'ANNOUNCEMENT', 'tweet_volume': 64268}, {'name': 'Kyle Anderson', 'url': 'http://twitter.com/search?q=%22Kyle+Anderson%22', 'promoted_content': None, 'query': '%22Kyle+Anderson%22', 'tweet_volume': None}, {'name': 'Jesse Chavez', 'url': 'http://twitter.com/search?q=%22Jesse+Chavez%22', 'promoted_content': None, 'query': '%22Jesse+Chavez%22', 'tweet_volume': None}, {'name': 'Bloodsport', 'url': 'http://twitter.com/search?q=Bloodsport', 'promoted_content': None, 'query': 'Bloodsport', 'tweet_volume': None}, {'name': 'Martin Luther King Jr.', 'url': 'http://twitter.com/search?q=%22Martin+Luther+King+Jr.%22', 'promoted_content': None, 'query': '%22Martin+Luther+King+Jr.%22', 'tweet_volume': 416296}, {'name': 'Liverpool', 'url': 'http://twitter.com/search?q=Liverpool', 'promoted_content': None, 'query': 'Liverpool', 'tweet_volume': 695229}, {'name': 'Nasim Aghdam', 'url': 'http://twitter.com/search?q=%22Nasim+Aghdam%22', 'promoted_content': None, 'query': '%22Nasim+Aghdam%22', 'tweet_volume': 101429}, {'name': 'YouTube HQ', 'url': 'http://twitter.com/search?q=%22YouTube+HQ%22', 'promoted_content': None, 'query': '%22YouTube+HQ%22', 'tweet_volume': 96425}, {'name': '#TheMagicians', 'url': 'http://twitter.com/search?q=%23TheMagicians', 'promoted_content': None, 'query': '%23TheMagicians', 'tweet_volume': 10310}, {'name': '#LiveFromALadyCave', 'url': 'http://twitter.com/search?q=%23LiveFromALadyCave', 'promoted_content': None, 'query': '%23LiveFromALadyCave', 'tweet_volume': None}, {'name': '#BlackInkCrew', 'url': 'http://twitter.com/search?q=%23BlackInkCrew', 'promoted_content': None, 'query': '%23BlackInkCrew', 'tweet_volume': None}, {'name': '#HowImUpToNoGood', 'url': 'http://twitter.com/search?q=%23HowImUpToNoGood', 'promoted_content': None, 'query': '%23HowImUpToNoGood', 'tweet_volume': None}, {'name': '#ThursdayThoughts', 'url': 'http://twitter.com/search?q=%23ThursdayThoughts', 'promoted_content': None, 'query': '%23ThursdayThoughts', 'tweet_volume': 19660}, {'name': '#DiveBarTour', 'url': 'http://twitter.com/search?q=%23DiveBarTour', 'promoted_content': None, 'query': '%23DiveBarTour', 'tweet_volume': None}, {'name': '#WhenYouHaveToPlayNice', 'url': 'http://twitter.com/search?q=%23WhenYouHaveToPlayNice', 'promoted_content': None, 'query': '%23WhenYouHaveToPlayNice', 'tweet_volume': None}, {'name': '#RampageMovie', 'url': 'http://twitter.com/search?q=%23RampageMovie', 'promoted_content': None, 'query': '%23RampageMovie', 'tweet_volume': None}, {'name': '#Lula', 'url': 'http://twitter.com/search?q=%23Lula', 'promoted_content': None, 'query': '%23Lula', 'tweet_volume': 34116}, {'name': '#NHLDucks', 'url': 'http://twitter.com/search?q=%23NHLDucks', 'promoted_content': None, 'query': '%23NHLDucks', 'tweet_volume': None}, {'name': '#MLK50', 'url': 'http://twitter.com/search?q=%23MLK50', 'promoted_content': None, 'query': '%23MLK50', 'tweet_volume': 424980}, {'name': '#WednesdayWisdom', 'url': 'http://twitter.com/search?q=%23WednesdayWisdom', 'promoted_content': None, 'query': '%23WednesdayWisdom', 'tweet_volume': 152867}, {'name': '#NationalHugANewsPersonDay', 'url': 'http://twitter.com/search?q=%23NationalHugANewsPersonDay', 'promoted_content': None, 'query': '%23NationalHugANewsPersonDay', 'tweet_volume': 34548}, {'name': '#MayaAngelou', 'url': 'http://twitter.com/search?q=%23MayaAngelou', 'promoted_content': None, 'query': '%23MayaAngelou', 'tweet_volume': 33140}, {'name': '#NationalWalkingDay', 'url': 'http://twitter.com/search?q=%23NationalWalkingDay', 'promoted_content': None, 'query': '%23NationalWalkingDay', 'tweet_volume': None}, {'name': '#WorstCaseScenarioIn4Words', 'url': 'http://twitter.com/search?q=%23WorstCaseScenarioIn4Words', 'promoted_content': None, 'query': '%23WorstCaseScenarioIn4Words', 'tweet_volume': 13226}, {'name': '#IAM2018', 'url': 'http://twitter.com/search?q=%23IAM2018', 'promoted_content': None, 'query': '%23IAM2018', 'tweet_volume': 12085}, {'name': '#SafePlaceSelfie', 'url': 'http://twitter.com/search?q=%23SafePlaceSelfie', 'promoted_content': None, 'query': '%23SafePlaceSelfie', 'tweet_volume': None}], 'as_of': '2018-04-05T08:32:58Z', 'created_at': '2018-04-05T08:28:26Z', 'locations': [{'name': 'United States', 'woeid': 23424977}]}]\n"
     ]
    }
   ],
   "source": [
    "world_trends = twitter_api.trends.place(_id=WORLD_WOE_ID)\n",
    "us_trends = twitter_api.trends.place(_id=US_WOE_ID)\n",
    "\n",
    "print(world_trends)\n",
    "print()\n",
    "print(us_trends)"
   ]
  },
  {
   "cell_type": "code",
   "execution_count": null,
   "metadata": {},
   "outputs": [],
   "source": []
  }
 ],
 "metadata": {
  "kernelspec": {
   "display_name": "Python 3",
   "language": "python",
   "name": "python3"
  },
  "language_info": {
   "codemirror_mode": {
    "name": "ipython",
    "version": 3
   },
   "file_extension": ".py",
   "mimetype": "text/x-python",
   "name": "python",
   "nbconvert_exporter": "python",
   "pygments_lexer": "ipython3",
   "version": "3.6.4"
  }
 },
 "nbformat": 4,
 "nbformat_minor": 2
}
