{
 "cells": [
  {
   "cell_type": "markdown",
   "metadata": {},
   "source": [
    "## Tokenization"
   ]
  },
  {
   "cell_type": "markdown",
   "metadata": {},
   "source": [
    "Process of breaking-up the given text into small units such as sentences or words.\n",
    "*  Tokenization does this task by locating word boundaries\n",
    "*  Ending point of a word and beginning of the next word is called word boundary.\n",
    "*  Also knows as word segmentation"
   ]
  },
  {
   "cell_type": "markdown",
   "metadata": {},
   "source": [
    "### Challenges in Tokenization"
   ]
  },
  {
   "cell_type": "markdown",
   "metadata": {},
   "source": [
    "1. Depends on the type of language\n",
    "   * English, French are reffered as space-delimited\n",
    "       * Most of the words are separated from each other by whited spaces\n",
    "   * Chinese, Thai are reffered to as unsegmented because words do not have slear boundaries\n",
    "   \n",
    "2. Tokenization is also affected by writing system and the typographical structure of the words.\n",
    "   "
   ]
  },
  {
   "cell_type": "code",
   "execution_count": 1,
   "metadata": {},
   "outputs": [],
   "source": [
    "#Import Libraries\n",
    "from nltk.tokenize import sent_tokenize #will be use to tokenize the sentences\n",
    "from nltk.tokenize import word_tokenize #will be use to tokenize the words"
   ]
  },
  {
   "cell_type": "code",
   "execution_count": null,
   "metadata": {},
   "outputs": [],
   "source": []
  }
 ],
 "metadata": {
  "kernelspec": {
   "display_name": "Python 3",
   "language": "python",
   "name": "python3"
  },
  "language_info": {
   "codemirror_mode": {
    "name": "ipython",
    "version": 3
   },
   "file_extension": ".py",
   "mimetype": "text/x-python",
   "name": "python",
   "nbconvert_exporter": "python",
   "pygments_lexer": "ipython3",
   "version": "3.6.4"
  }
 },
 "nbformat": 4,
 "nbformat_minor": 2
}
