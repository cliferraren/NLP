{
 "cells": [
  {
   "cell_type": "markdown",
   "metadata": {},
   "source": [
    "# Chunking\n",
    "\n",
    "In general, human brain is good at grouping information together to make it easier to process and understand. When we memorize a telephone\n",
    "number or any other sequence of numbers, we don't memorize them as separate individual numbers, we group them together to\n",
    "memorize them easily.\n",
    "\n",
    "Chucking - is grouping of information"
   ]
  },
  {
   "cell_type": "code",
   "execution_count": 1,
   "metadata": {},
   "outputs": [],
   "source": [
    "#Importing the Libraries\n",
    "import nltk\n",
    "from nltk.tokenize import word_tokenize\n",
    "from nltk.tag import pos_tag\n",
    "from nltk.chunk import RegexpParser"
   ]
  },
  {
   "cell_type": "code",
   "execution_count": 2,
   "metadata": {},
   "outputs": [],
   "source": [
    "#Importing the data\n",
    "#Poem: The Bell BY RICHARD JONES\n",
    "dataset = \"\"\"In the tower the bell\n",
    "is alone, like a man\n",
    "in his room,\n",
    "thinking and thinking.\n",
    " \n",
    "The bell is made of iron.\n",
    "It takes the weight\n",
    "of a man\n",
    "to make the bell move.\n",
    " \n",
    "Far below, the bell feels\n",
    "hands on a rope.\n",
    "It considers this.\n",
    "It turns its head.\n",
    " \n",
    "Miles away,\n",
    "a man in his room\n",
    "hears the clear sound,\n",
    "and lifts his head to listen.\"\"\""
   ]
  },
  {
   "cell_type": "code",
   "execution_count": 3,
   "metadata": {},
   "outputs": [
    {
     "name": "stdout",
     "output_type": "stream",
     "text": [
      "['In', 'the', 'tower', 'the', 'bell', 'is', 'alone', ',', 'like', 'a', 'man', 'in', 'his', 'room', ',', 'thinking', 'and', 'thinking', '.', 'The', 'bell', 'is', 'made', 'of', 'iron', '.', 'It', 'takes', 'the', 'weight', 'of', 'a', 'man', 'to', 'make', 'the', 'bell', 'move', '.', 'Far', 'below', ',', 'the', 'bell', 'feels', 'hands', 'on', 'a', 'rope', '.', 'It', 'considers', 'this', '.', 'It', 'turns', 'its', 'head', '.', 'Miles', 'away', ',', 'a', 'man', 'in', 'his', 'room', 'hears', 'the', 'clear', 'sound', ',', 'and', 'lifts', 'his', 'head', 'to', 'listen', '.']\n"
     ]
    }
   ],
   "source": [
    "#Tokenize the data\n",
    "\n",
    "token_data = word_tokenize(dataset)\n",
    "print(token_data)"
   ]
  },
  {
   "cell_type": "code",
   "execution_count": 5,
   "metadata": {},
   "outputs": [
    {
     "name": "stdout",
     "output_type": "stream",
     "text": [
      "[('In', 'IN'), ('the', 'DT'), ('tower', 'NN'), ('the', 'DT'), ('bell', 'NN'), ('is', 'VBZ'), ('alone', 'RB'), (',', ','), ('like', 'IN'), ('a', 'DT'), ('man', 'NN'), ('in', 'IN'), ('his', 'PRP$'), ('room', 'NN'), (',', ','), ('thinking', 'VBG'), ('and', 'CC'), ('thinking', 'VBG'), ('.', '.'), ('The', 'DT'), ('bell', 'NN'), ('is', 'VBZ'), ('made', 'VBN'), ('of', 'IN'), ('iron', 'NN'), ('.', '.'), ('It', 'PRP'), ('takes', 'VBZ'), ('the', 'DT'), ('weight', 'NN'), ('of', 'IN'), ('a', 'DT'), ('man', 'NN'), ('to', 'TO'), ('make', 'VB'), ('the', 'DT'), ('bell', 'NN'), ('move', 'NN'), ('.', '.'), ('Far', 'NNP'), ('below', 'IN'), (',', ','), ('the', 'DT'), ('bell', 'NN'), ('feels', 'VBZ'), ('hands', 'NNS'), ('on', 'IN'), ('a', 'DT'), ('rope', 'NN'), ('.', '.'), ('It', 'PRP'), ('considers', 'VBZ'), ('this', 'DT'), ('.', '.'), ('It', 'PRP'), ('turns', 'VBZ'), ('its', 'PRP$'), ('head', 'NN'), ('.', '.'), ('Miles', 'NNP'), ('away', 'RB'), (',', ','), ('a', 'DT'), ('man', 'NN'), ('in', 'IN'), ('his', 'PRP$'), ('room', 'NN'), ('hears', 'VBZ'), ('the', 'DT'), ('clear', 'JJ'), ('sound', 'NN'), (',', ','), ('and', 'CC'), ('lifts', 'VBZ'), ('his', 'PRP$'), ('head', 'NN'), ('to', 'TO'), ('listen', 'VB'), ('.', '.')]\n"
     ]
    }
   ],
   "source": [
    "#Apply the POS Tagging\n",
    "pos_tagging = pos_tag(token_data)\n",
    "print(pos_tagging)"
   ]
  },
  {
   "cell_type": "code",
   "execution_count": null,
   "metadata": {},
   "outputs": [],
   "source": []
  }
 ],
 "metadata": {
  "kernelspec": {
   "display_name": "Python 3",
   "language": "python",
   "name": "python3"
  },
  "language_info": {
   "codemirror_mode": {
    "name": "ipython",
    "version": 3
   },
   "file_extension": ".py",
   "mimetype": "text/x-python",
   "name": "python",
   "nbconvert_exporter": "python",
   "pygments_lexer": "ipython3",
   "version": "3.6.4"
  }
 },
 "nbformat": 4,
 "nbformat_minor": 2
}
