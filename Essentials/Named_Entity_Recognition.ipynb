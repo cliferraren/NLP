{
 "cells": [
  {
   "cell_type": "markdown",
   "metadata": {},
   "source": [
    "# Named Entity Recognition"
   ]
  },
  {
   "cell_type": "markdown",
   "metadata": {},
   "source": [
    "## *  Also knowed as entity identification, entity chunking, and entity extraction.\n",
    "*  A sub-task of information extraction that classify named entities into predefined categories such as names of persons, organizations, locations\n",
    "*  Identifies the different entities of the name\n",
    "\n",
    "It plays a vital role in reference resoltuions and meaning representation in natural laguage processingapplications\n",
    "\n",
    "\n",
    "Example:\n",
    "    * Tesla: Organization, Elon Musk: Person"
   ]
  },
  {
   "cell_type": "code",
   "execution_count": 2,
   "metadata": {},
   "outputs": [
    {
     "ename": "SyntaxError",
     "evalue": "invalid syntax (<ipython-input-2-ebeac2b54d14>, line 1)",
     "output_type": "error",
     "traceback": [
      "\u001b[0;36m  File \u001b[0;32m\"<ipython-input-2-ebeac2b54d14>\"\u001b[0;36m, line \u001b[0;32m1\u001b[0m\n\u001b[0;31m    Some of the applications of Named Entity Recognition\u001b[0m\n\u001b[0m          ^\u001b[0m\n\u001b[0;31mSyntaxError\u001b[0m\u001b[0;31m:\u001b[0m invalid syntax\n"
     ]
    }
   ],
   "source": [
    "Some of the applications of Named Entity Recognition\n",
    "- Classify the contents to news providers\n",
    "- Efficient search algorithms\n",
    "- Content recommendation\n",
    "- Question and answer systems\n",
    "- automatic forwarding\n",
    "- Online document searching"
   ]
  },
  {
   "cell_type": "code",
   "execution_count": null,
   "metadata": {},
   "outputs": [],
   "source": []
  }
 ],
 "metadata": {
  "kernelspec": {
   "display_name": "Python 3",
   "language": "python",
   "name": "python3"
  },
  "language_info": {
   "codemirror_mode": {
    "name": "ipython",
    "version": 3
   },
   "file_extension": ".py",
   "mimetype": "text/x-python",
   "name": "python",
   "nbconvert_exporter": "python",
   "pygments_lexer": "ipython3",
   "version": "3.6.4"
  }
 },
 "nbformat": 4,
 "nbformat_minor": 2
}
