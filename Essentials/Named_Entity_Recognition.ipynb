{
 "cells": [
  {
   "cell_type": "markdown",
   "metadata": {},
   "source": [
    "# Named Entity Recognition"
   ]
  },
  {
   "cell_type": "markdown",
   "metadata": {},
   "source": [
    "## *  Also knowed as entity identification, entity chunking, and entity extraction.\n",
    "*  A sub-task of information extraction that classify named entities into predefined categories such as names of persons, organizations, locations\n",
    "*  Identifies the different entities of the name\n",
    "\n",
    "It plays a vital role in reference resoltuions and meaning representation in natural laguage processingapplications\n",
    "\n",
    "\n",
    "Example:\n",
    "    * Tesla: Organization, Elon Musk: Person"
   ]
  },
  {
   "cell_type": "markdown",
   "metadata": {},
   "source": [
    "## Some of the applications of Named Entity Recognition\n",
    "- Classify the contents to news providers\n",
    "- Efficient search algorithms\n",
    "- Content recommendation\n",
    "- Question and answer systems\n",
    "- Automatic forwarding\n",
    "- Online document searching"
   ]
  },
  {
   "cell_type": "code",
   "execution_count": null,
   "metadata": {},
   "outputs": [],
   "source": [
    "#Importing the Libraries\n",
    "import nltk\n",
    "nltk.download('maxent_ne_chunker')\n",
    "nltk.download('words')\n",
    "from nltk.tokenize import word_tokenize\n",
    "from nltk.tag import pos_tag\n",
    "from nltk.chunk import ne_chunk"
   ]
  },
  {
   "cell_type": "code",
   "execution_count": null,
   "metadata": {},
   "outputs": [],
   "source": [
    "#Importing the data\n",
    "#Yahoo News\n",
    "dataset = \"\"\"\n",
    "Security, Europe\n",
    "\n",
    "And America should take notice. \n",
    "\n",
    "Russia Is Turning an Old Bomber into a Super Cruise Missile Carrier. Here's Why That Matters.\n",
    "The Russian development is significant—even if the Kremlin does not yet have the ability to retarget cruise missile while the weapons are in flight (there are indications that X-101 can be retargeted while in flight and that such a capability at the very least in development).\n",
    "\n",
    "Russia’s venerable Tupolev Tu-95MS Bear strategic bombers are starting to receive the capability to retarget cruise missiles once the bombers are already airborne. Moreover, those cruise missiles can be retargeted once they are already enroute to their targets—which is a significant new capability for the Russian military.\n",
    "\n",
    "(This first appeared in June.)\n",
    "\n",
    "Indeed, earlier today, the Russian Ministry of Defense announced that the Tu-95MS bombers armed with the latest X-101 cruise missiles—able hit targets a range of 4500km—struck ISIS targets in Syria.\n",
    "\n",
    "“On July 5 strategic missile carriers Tu-95MS took off from the Engels airfield on the territory of the Russian Federation, made a flight with refueling in the air and stroke on targets of ISIS terrorists on the border of the provinces of Hama and Homs (Syrian Arab Republic) with the latest cruise missiles H-101,” the Russian Defense Ministry stated on its Facebook page.\n",
    "\n",
    "“As a result of the missile strike, 3 large warehouses of weapons and ammunition, as well as a command post of terrorists near the town of Akerbat were destroyed. This was confirmed by data of objective control. The strikes with the latest high-precision missiles H-101 were made from the range of about 1,000 km.”\n",
    "\n",
    "Those Tu-95MS aircraft could have been equipped with the SVP system that would allow the bomber crews to retarget their missiles in flight. But the new avionics package is not yet fully fielded and it is not clear how many aircraft have the new SVP system installed.\n",
    "\n",
    "“They are installing these systems on the bombers,” Vasily Kashin, a senior fellow at the Center for Comprehensive European and International Studies at Moscow’s Higher School of Economics told The National Interest.\n",
    "\n",
    "“They would be now able to retarget the cruise missile before it is launched by the bomber.”\n",
    "\n",
    "Moreover, there are indications that the Tu-95MS would be able to retarget missiles that are already in-flight. Kashin noted that there have been some reports that the X-101 can be retargeted while it is enroute to a target. But even if that capability is not yet operational, it is almost certainly being developed.\n",
    "\n",
    "“It can be assumed that such work is underway since the Americans have that,” Kashin said.\n",
    "\n",
    "“They probably could not fully use that option because the bombers themselves were not ready.”\n",
    "\n",
    "It is not clear when the SVP package will be fully operational across Russia’s entire Tu-95MS fleet. It is likely that upgrade will be added as the aircraft enter depot maintenance.\n",
    "\n",
    "“I guess that will be implemented gradually when the aircraft are undergoing scheduled repairs/upgrades,” Kashin said.\n",
    "\n",
    "The Russian development is significant—even if the Kremlin does not yet have the ability to retarget cruise missile while the weapons are in flight (there are indications that X-101 can be retargeted while in flight and that such a capability at the very least in development).\n",
    "\n",
    "“This is an important advance for the Russians, and will increase their operational flexibility/ability to respond to changing conditions in the battlespace and pop-up target opportunities,” Mark Gunzinger, Center for Strategic and Budgetary Analyses airpower analyst and former B-52 pilot, told The National Interest.\n",
    "\n",
    "Recommended: How North Korea Could Start a War\n",
    "\n",
    "Recommended: This Is What Happens if America Nuked North Korea\n",
    "\n",
    "Recommended: The Colt Python: The Best Revolver Ever Made?\n",
    "\n",
    "“That said, I don't think it's as significant as having the ability to retarget weapons once they are in flight.  Yes, I'm sure they will develop this capability.  Moreover, while both functionalities are a step forward, I think future weapons that have the capability to collaborate with each other in flight could be game changers.”\n",
    "\n",
    "The bottom line is that long range precision weapons are no longer an American monopoly.\"\"\""
   ]
  },
  {
   "cell_type": "code",
   "execution_count": null,
   "metadata": {},
   "outputs": [],
   "source": [
    "#Tokenize and tag the data\n",
    "data_tag = pos_tag(word_tokenize(dataset))"
   ]
  },
  {
   "cell_type": "code",
   "execution_count": null,
   "metadata": {},
   "outputs": [],
   "source": [
    "#Apply Named Entity Recognition with the NE_chunk\n",
    "data_ner = ne_chunk(data_tag)\n",
    "#print(data_ner)"
   ]
  },
  {
   "cell_type": "code",
   "execution_count": null,
   "metadata": {},
   "outputs": [],
   "source": [
    "#Draw the Tree Diagram\n",
    "data_ner.draw()"
   ]
  },
  {
   "cell_type": "code",
   "execution_count": null,
   "metadata": {},
   "outputs": [],
   "source": []
  }
 ],
 "metadata": {
  "kernelspec": {
   "display_name": "Python 3",
   "language": "python",
   "name": "python3"
  },
  "language_info": {
   "codemirror_mode": {
    "name": "ipython",
    "version": 3
   },
   "file_extension": ".py",
   "mimetype": "text/x-python",
   "name": "python",
   "nbconvert_exporter": "python",
   "pygments_lexer": "ipython3",
   "version": "3.6.4"
  }
 },
 "nbformat": 4,
 "nbformat_minor": 2
}
