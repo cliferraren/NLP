{
 "cells": [
  {
   "cell_type": "markdown",
   "metadata": {},
   "source": [
    "## Stop Words"
   ]
  },
  {
   "cell_type": "markdown",
   "metadata": {},
   "source": [
    "Stop words are the words which are filtered out in natural language processing.\n",
    "  *  Referred as the most common words in the language\n",
    "  *  No single list of stop words, any group of words can be selected as stop words\n",
    "  *  eg. the , is, at and, which"
   ]
  },
  {
   "cell_type": "code",
   "execution_count": 1,
   "metadata": {},
   "outputs": [
    {
     "name": "stdout",
     "output_type": "stream",
     "text": [
      "[nltk_data] Downloading package stopwords to /Users/rck/nltk_data...\n",
      "[nltk_data]   Package stopwords is already up-to-date!\n"
     ]
    }
   ],
   "source": [
    "#Importing Libraries\n",
    "import nltk\n",
    "nltk.download('stopwords')\n",
    "from nltk.corpus import stopwords\n",
    "from nltk.tokenize import word_tokenize"
   ]
  },
  {
   "cell_type": "code",
   "execution_count": 2,
   "metadata": {},
   "outputs": [],
   "source": [
    "#Importing the data  \n",
    "# Poem: A Broken Appointment BY THOMAS HARDY\n",
    "\n",
    "dataset = \"\"\"You did not come, \n",
    "And marching Time drew on, and wore me numb,— \n",
    "Yet less for loss of your dear presence there \n",
    "Than that I thus found lacking in your make \n",
    "That high compassion which can overbear \n",
    "Reluctance for pure lovingkindness’ sake \n",
    "Grieved I, when, as the hope-hour stroked its sum, \n",
    "You did not come. \n",
    "\n",
    "You love not me, \n",
    "And love alone can lend you loyalty; \n",
    "–I know and knew it. But, unto the store \n",
    "Of human deeds divine in all but name, \n",
    "Was it not worth a little hour or more \n",
    "To add yet this: Once you, a woman, came \n",
    "To soothe a time-torn man; even though it be \n",
    "You love not me? \"\"\""
   ]
  },
  {
   "cell_type": "code",
   "execution_count": 3,
   "metadata": {},
   "outputs": [
    {
     "name": "stdout",
     "output_type": "stream",
     "text": [
      "{\"isn't\", 've', 'a', 'which', 'was', 'too', 'those', 'with', 'of', 'he', \"needn't\", 'over', 'wasn', 'aren', 'between', 'because', 'shouldn', 'after', 'having', 'me', 'the', 'itself', 'mightn', 'if', 'doesn', 'its', 'out', 'few', 'hers', 'them', 'against', 'has', 'weren', 'him', 'what', 'up', 'should', 'to', \"hasn't\", 'into', 'on', 'as', 'now', 'while', 'our', 'or', 'won', 't', 'o', 'until', \"mightn't\", 'couldn', 'for', 'all', 'only', 'her', 'very', \"don't\", \"that'll\", 'had', 'both', 'isn', 'll', 'needn', 'no', 'doing', 'where', 'did', 'then', 'other', 'you', 'your', 'herself', 'just', 'some', 'most', \"it's\", 'own', 'have', \"didn't\", 'more', \"shouldn't\", 'that', 'once', \"should've\", 'mustn', 'my', \"won't\", 'before', 'nor', 'yourselves', 'are', \"couldn't\", 'myself', 'his', 'who', 'y', 'their', 'theirs', 'themselves', 'this', \"mustn't\", 'it', 'off', 'how', 'when', \"wasn't\", 'will', 'being', 'in', 'further', 'under', 're', 'wouldn', 'through', 'whom', 'didn', 'does', 'but', 'by', \"hadn't\", 'can', \"doesn't\", 'during', 'from', 'am', 'do', 'she', \"shan't\", 'd', 'hasn', 'down', 'ma', 'don', 'there', 'than', 'm', 'why', \"wouldn't\", \"you'll\", 'we', 'below', 'haven', 'yours', \"you've\", 'be', 'been', 'such', 'himself', 's', \"haven't\", 'shan', 'they', 'so', 'at', 'i', 'these', 'not', 'and', 'again', 'yourself', \"she's\", 'any', 'ours', 'hadn', 'here', \"aren't\", 'same', \"weren't\", 'were', 'each', 'about', 'ain', \"you're\", 'above', 'an', 'is', 'ourselves', \"you'd\"}\n"
     ]
    }
   ],
   "source": [
    "#Create a set of English Stop Words\n",
    "stop_words = set(stopwords.words(\"english\"))\n",
    "print(stop_words)"
   ]
  },
  {
   "cell_type": "code",
   "execution_count": 4,
   "metadata": {},
   "outputs": [],
   "source": [
    "#Tokenize the dataset\n",
    "words = word_tokenize(dataset)"
   ]
  },
  {
   "cell_type": "code",
   "execution_count": 5,
   "metadata": {},
   "outputs": [],
   "source": [
    "#Create the list of dataset without the stop words\n",
    "filtered_dataset = []\n",
    "\n",
    "for w in words:\n",
    "    if w not in stop_words:\n",
    "        filtered_dataset.append(w)"
   ]
  },
  {
   "cell_type": "code",
   "execution_count": 6,
   "metadata": {},
   "outputs": [
    {
     "name": "stdout",
     "output_type": "stream",
     "text": [
      "['You', 'come', ',', 'And', 'marching', 'Time', 'drew', ',', 'wore', 'numb', ',', '—', 'Yet', 'less', 'loss', 'dear', 'presence', 'Than', 'I', 'thus', 'found', 'lacking', 'make', 'That', 'high', 'compassion', 'overbear', 'Reluctance', 'pure', 'lovingkindness', '’', 'sake', 'Grieved', 'I', ',', ',', 'hope-hour', 'stroked', 'sum', ',', 'You', 'come', '.', 'You', 'love', ',', 'And', 'love', 'alone', 'lend', 'loyalty', ';', '–I', 'know', 'knew', '.', 'But', ',', 'unto', 'store', 'Of', 'human', 'deeds', 'divine', 'name', ',', 'Was', 'worth', 'little', 'hour', 'To', 'add', 'yet', ':', 'Once', ',', 'woman', ',', 'came', 'To', 'soothe', 'time-torn', 'man', ';', 'even', 'though', 'You', 'love', '?']\n"
     ]
    }
   ],
   "source": [
    "print(filtered_dataset)"
   ]
  },
  {
   "cell_type": "code",
   "execution_count": null,
   "metadata": {},
   "outputs": [],
   "source": []
  }
 ],
 "metadata": {
  "kernelspec": {
   "display_name": "Python 3",
   "language": "python",
   "name": "python3"
  },
  "language_info": {
   "codemirror_mode": {
    "name": "ipython",
    "version": 3
   },
   "file_extension": ".py",
   "mimetype": "text/x-python",
   "name": "python",
   "nbconvert_exporter": "python",
   "pygments_lexer": "ipython3",
   "version": "3.6.4"
  }
 },
 "nbformat": 4,
 "nbformat_minor": 2
}
