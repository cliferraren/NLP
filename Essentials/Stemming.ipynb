{
 "cells": [
  {
   "cell_type": "markdown",
   "metadata": {},
   "source": [
    "## Stemming"
   ]
  },
  {
   "cell_type": "markdown",
   "metadata": {},
   "source": [
    "*  The process of removing prefixes, suffixes from the words and reduce them to their stem form\n",
    "\n",
    "*  It refers to map a word form to basic word\n",
    "\n",
    "*  Word forms may differ from stems due to morphological changes and grammatical reasons\n",
    "\n",
    "*  For example, the word \"computation\" might be stemmed to \"comput\""
   ]
  },
  {
   "cell_type": "markdown",
   "metadata": {},
   "source": [
    "Stemming is a part of linguistic studies in morphology and artificial intelligence for informationextraction and retrieval\n",
    "\n",
    "Stemming and AI knowledge extract meaningful information from vast sources like big data and Internet.\n",
    "\n",
    "When stem of a word is recognized then it makes easier to return the search results"
   ]
  },
  {
   "cell_type": "markdown",
   "metadata": {},
   "source": [
    "## Porter Stemming\n",
    "  *  The most common algorithm used for stemming in English. It is consists of several phases of word reductions that applied sequentially."
   ]
  },
  {
   "cell_type": "code",
   "execution_count": 1,
   "metadata": {},
   "outputs": [],
   "source": [
    "#Importing the Libraries\n",
    "from nltk.stem import PorterStemmer\n",
    "from nltk.tokenize import word_tokenize"
   ]
  },
  {
   "cell_type": "code",
   "execution_count": 2,
   "metadata": {},
   "outputs": [],
   "source": [
    "#Create object of PorterStemmer class\n",
    "ps = PorterStemmer()"
   ]
  },
  {
   "cell_type": "code",
   "execution_count": 3,
   "metadata": {},
   "outputs": [],
   "source": [
    "#Importing the data\n",
    "dataset = [\"love\", \"lover\", \"loving\",\"loved\", \"lovingly\"]"
   ]
  },
  {
   "cell_type": "code",
   "execution_count": 4,
   "metadata": {},
   "outputs": [
    {
     "name": "stdout",
     "output_type": "stream",
     "text": [
      "love\n",
      "lover\n",
      "love\n",
      "love\n",
      "lovingli\n"
     ]
    }
   ],
   "source": [
    "#Apply the Stemming\n",
    "for w in dataset:\n",
    "    print(ps.stem(w))"
   ]
  },
  {
   "cell_type": "code",
   "execution_count": 5,
   "metadata": {},
   "outputs": [],
   "source": [
    "#Importing another set of data\n",
    "#Poem: Apricot Lament  Launch Audio in a New Window BY TACEY M. ATSITTY\n",
    "new_data = \"\"\"Just when he thought to loom the backyard for bud &\n",
    "Just when he came to admire, or thought to dote over\n",
    "Already he rues stick-thin arms, whose petals brave the late\n",
    "Whose middles freeze; we’ve gone without\n",
    "All ramose till now, empty skirts anxious to round back for\n",
    "It’s the fourth year lips have gone without any such\n",
    "Already hips full of leaves and none\n",
    "Else, years by last, the lone — it splat behind\n",
    "My back, it came to ache as the rake clawed at\n",
    "We’ve gone into partial burn, without even\n",
    "No matter for bloom, the seasons no longer allow\n",
    "The trouble with doting over blossoms is\n",
    "In a swollen tub of ruth, wanting nothing but his\"\"\""
   ]
  },
  {
   "cell_type": "code",
   "execution_count": 7,
   "metadata": {},
   "outputs": [],
   "source": [
    "#Create object of word_tokenize class\n",
    "words = word_tokenize(new_data)"
   ]
  },
  {
   "cell_type": "code",
   "execution_count": 8,
   "metadata": {},
   "outputs": [
    {
     "name": "stdout",
     "output_type": "stream",
     "text": [
      "just\n",
      "when\n",
      "he\n",
      "thought\n",
      "to\n",
      "loom\n",
      "the\n",
      "backyard\n",
      "for\n",
      "bud\n",
      "&\n",
      "just\n",
      "when\n",
      "he\n",
      "came\n",
      "to\n",
      "admir\n",
      ",\n",
      "or\n",
      "thought\n",
      "to\n",
      "dote\n",
      "over\n",
      "alreadi\n",
      "he\n",
      "rue\n",
      "stick-thin\n",
      "arm\n",
      ",\n",
      "whose\n",
      "petal\n",
      "brave\n",
      "the\n",
      "late\n",
      "whose\n",
      "middl\n",
      "freez\n",
      ";\n",
      "we\n",
      "’\n",
      "ve\n",
      "gone\n",
      "without\n",
      "all\n",
      "ramos\n",
      "till\n",
      "now\n",
      ",\n",
      "empti\n",
      "skirt\n",
      "anxiou\n",
      "to\n",
      "round\n",
      "back\n",
      "for\n",
      "It\n",
      "’\n",
      "s\n",
      "the\n",
      "fourth\n",
      "year\n",
      "lip\n",
      "have\n",
      "gone\n",
      "without\n",
      "ani\n",
      "such\n",
      "alreadi\n",
      "hip\n",
      "full\n",
      "of\n",
      "leav\n",
      "and\n",
      "none\n",
      "els\n",
      ",\n",
      "year\n",
      "by\n",
      "last\n",
      ",\n",
      "the\n",
      "lone\n",
      "—\n",
      "it\n",
      "splat\n",
      "behind\n",
      "My\n",
      "back\n",
      ",\n",
      "it\n",
      "came\n",
      "to\n",
      "ach\n",
      "as\n",
      "the\n",
      "rake\n",
      "claw\n",
      "at\n",
      "We\n",
      "’\n",
      "ve\n",
      "gone\n",
      "into\n",
      "partial\n",
      "burn\n",
      ",\n",
      "without\n",
      "even\n",
      "No\n",
      "matter\n",
      "for\n",
      "bloom\n",
      ",\n",
      "the\n",
      "season\n",
      "no\n",
      "longer\n",
      "allow\n",
      "the\n",
      "troubl\n",
      "with\n",
      "dote\n",
      "over\n",
      "blossom\n",
      "is\n",
      "In\n",
      "a\n",
      "swollen\n",
      "tub\n",
      "of\n",
      "ruth\n",
      ",\n",
      "want\n",
      "noth\n",
      "but\n",
      "hi\n"
     ]
    }
   ],
   "source": [
    "#Apply the Stemming\n",
    "for wrd in words:\n",
    "    print(ps.stem(wrd))"
   ]
  },
  {
   "cell_type": "code",
   "execution_count": null,
   "metadata": {},
   "outputs": [],
   "source": []
  }
 ],
 "metadata": {
  "kernelspec": {
   "display_name": "Python 3",
   "language": "python",
   "name": "python3"
  },
  "language_info": {
   "codemirror_mode": {
    "name": "ipython",
    "version": 3
   },
   "file_extension": ".py",
   "mimetype": "text/x-python",
   "name": "python",
   "nbconvert_exporter": "python",
   "pygments_lexer": "ipython3",
   "version": "3.6.4"
  }
 },
 "nbformat": 4,
 "nbformat_minor": 2
}
