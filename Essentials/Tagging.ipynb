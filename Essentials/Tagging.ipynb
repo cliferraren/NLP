{
 "cells": [
  {
   "cell_type": "markdown",
   "metadata": {},
   "source": [
    "## Tagging"
   ]
  },
  {
   "cell_type": "markdown",
   "metadata": {},
   "source": [
    "* . Automatic assignment of descriptors to the given tokens is called Tagging\n",
    "* . Descriptor is called tag.\n",
    "* . The tag may indicate on eof the part-of-speech or semantic information\n",
    "* . Tagging is a kind of classification"
   ]
  },
  {
   "cell_type": "markdown",
   "metadata": {},
   "source": [
    "## POS (Parts-of-Speeach) Tagging\n",
    "  * The process of assigning one of the parts of a speech to the given word.\n",
    "    \n",
    "  * Includes nouns, verbs, adverbs, adjectives, pronouns, conjunction and their sub-categories\n",
    "\n",
    "  * Word: Paper, Tag: Noun"
   ]
  },
  {
   "cell_type": "code",
   "execution_count": null,
   "metadata": {},
   "outputs": [],
   "source": []
  }
 ],
 "metadata": {
  "kernelspec": {
   "display_name": "Python 3",
   "language": "python",
   "name": "python3"
  },
  "language_info": {
   "codemirror_mode": {
    "name": "ipython",
    "version": 3
   },
   "file_extension": ".py",
   "mimetype": "text/x-python",
   "name": "python",
   "nbconvert_exporter": "python",
   "pygments_lexer": "ipython3",
   "version": "3.6.4"
  }
 },
 "nbformat": 4,
 "nbformat_minor": 2
}
